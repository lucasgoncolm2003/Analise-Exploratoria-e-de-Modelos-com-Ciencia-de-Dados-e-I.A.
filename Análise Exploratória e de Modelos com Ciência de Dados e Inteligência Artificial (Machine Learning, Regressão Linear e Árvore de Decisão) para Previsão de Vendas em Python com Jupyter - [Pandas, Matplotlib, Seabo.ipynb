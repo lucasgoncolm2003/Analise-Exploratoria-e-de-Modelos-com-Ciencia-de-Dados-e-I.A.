{
 "cells": [
  {
   "cell_type": "markdown",
   "id": "2bb6991d",
   "metadata": {},
   "source": [
    "# Análise Exploratória e de Modelos com Ciência de Dados e Inteligência Artificial (Machine Learning, Regressão Linear e Árvore de Decisão) para Previsão de Vendas em Python com Jupyter - [Pandas, Matplotlib, Seaborn & Scikit-Learn]\n",
    "\n",
    "### • Análise Exploratória de Dados\n",
    "### • Ciência de Dados\n",
    "### • Análise de Modelos\n",
    "### • Previsão de Vendas\n",
    "### • Inteligência Artificial\n",
    "#### • Machine Learning\n",
    "#### • Regressão Linear\n",
    "#### • Árvore de Decisão\n",
    "### • Linguagem Python\n",
    "### • Plataforma Jupyter\n",
    "### • Uso de Bibliotecas\n",
    "#### • Pandas\n",
    "#### • Scikit-Learn\n",
    "#### • Matplotlib\n",
    "#### • Seaborn"
   ]
  },
  {
   "cell_type": "code",
   "execution_count": null,
   "id": "e7c7feb7",
   "metadata": {},
   "outputs": [],
   "source": [
    "# In[10]:\n",
    "get_ipython().system('pip install matplotlib')\n",
    "get_ipython().system('pip install seaborn')\n",
    "get_ipython().system('pip install scikit-learn')"
   ]
  },
  {
   "cell_type": "code",
   "execution_count": null,
   "id": "25d8b673",
   "metadata": {},
   "outputs": [],
   "source": [
    "# In[11]:\n",
    "# ---- Importação da Base de Dados\n",
    "import pandas as pd\n",
    "tabela = pd.read_csv(r\"Endereço da Planilha advertising.csv\")\n",
    "# read_csv: realiza Leitura de Planilha de Base de Dados\n",
    "display(tabela)\n",
    "# display: realiza Impressão da Tabela em Display"
   ]
  },
  {
   "cell_type": "code",
   "execution_count": null,
   "id": "0d06ff17",
   "metadata": {},
   "outputs": [],
   "source": [
    "# In[12]:\n",
    "# ---- Análise Exploratória de Dados\n",
    "import seaborn as sns\n",
    "import matplotlib.pyplot as plt\n",
    "# heatmap: Amostra de Dados Retangular com Matriz de Codificação por Cores\n",
    "sns.heatmap(tabela.corr(), annot=True, cmap=\"Wistia\")\n",
    "# corr(): Retorna uma Correlação em um DataFrame\n",
    "# annot=True: realiza Anotação de Dados em cada Bloco\n",
    "# cmap: O Mapeamento de Valores de Dados para o Espaço de Cores.\n",
    "plt.show()\n",
    "# Pode-se usar:\n",
    "# - sns.pairplot(tabela)\n",
    "# - plt.show()"
   ]
  },
  {
   "cell_type": "code",
   "execution_count": null,
   "id": "46a2bbea",
   "metadata": {},
   "outputs": [],
   "source": [
    "# In[13]:\n",
    "# ---- Importação de Biblioteca de Machine Learning\n",
    "from sklearn.model_selection import train_test_split\n",
    "# Coluna Vendas fica no Eixo y\n",
    "# Coluna Vendas é Apagada no Eixo x\n",
    "y = tabela[\"Vendas\"]\n",
    "x = tabela.drop(\"Vendas\", axis=1)\n",
    "# train_test_split: Divide Matrizes em Subconjuntos Aleatórios de Treinamento e Teste.\n",
    "x_treino, x_teste, y_treino, y_teste = train_test_split(x, y, test_size=0.3, random_state=1)\n",
    "# test_size em Float: Proporção do Conjunto de Dados a ser incluído na Divisão de Teste\n",
    "# test_size em Int: Representação do Número Absoluto de Amostras de Teste.\n",
    "# random_state: Controla o Embaralhamento dos Dados antes da Divisão."
   ]
  },
  {
   "cell_type": "code",
   "execution_count": null,
   "id": "22c458dc",
   "metadata": {},
   "outputs": [],
   "source": [
    "# In[14]:\n",
    "# Realização de Técnicas de Resoluções de Regressão\n",
    "from sklearn.linear_model import LinearRegression\n",
    "from sklearn.ensemble import RandomForestRegressor\n",
    "# Estruturação da Regressão Linear e da Árvore de Decisão\n",
    "modelo_regressaolinear = LinearRegression()\n",
    "modelo_arvoredecisao = RandomForestRegressor()\n",
    "# Treinamento da Regressão Linear e da Árvore de Decisão\n",
    "modelo_regressaolinear.fit(x_treino, y_treino)\n",
    "modelo_arvoredecisao.fit(x_treino, y_treino)\n",
    "# Bases de Dados de Apoio: x_treino, y_treino, que são ambas train_test_split"
   ]
  },
  {
   "cell_type": "code",
   "execution_count": null,
   "id": "800d45e2",
   "metadata": {},
   "outputs": [],
   "source": [
    "# In[15]:\n",
    "# ---- Teste de Inteligência Artificial e Análise do R²\n",
    "from sklearn import metrics\n",
    "# predict: Formulação de Previsões com Teste de AI\n",
    "previsao_regressaolinear = modelo_regressaolinear.predict(x_teste)\n",
    "previsao_arvoredecisao = modelo_arvoredecisao.predict(x_teste)\n",
    "# r2_score: Comparação da Precisão entre Modelos com R²,\n",
    "# Parâmetro que diz a Porcentagem de Acerto do Modelo em explicar o que ocorre\n",
    "print(metrics.r2_score(y_teste, previsao_regressaolinear))\n",
    "print(metrics.r2_score(y_teste, previsao_arvoredecisao))  "
   ]
  },
  {
   "cell_type": "code",
   "execution_count": null,
   "id": "22157d13",
   "metadata": {},
   "outputs": [],
   "source": [
    "# In[16]:\n",
    "# ---- Visualização Gráfica de Previsões\n",
    "tabela_auxiliar = pd.DataFrame()\n",
    "# Atribuição de Variáveis\n",
    "tabela_auxiliar[\"y_teste\"] = y_teste\n",
    "tabela_auxiliar[\"Previsões da Árvore de Decisão\"] = previsao_arvoredecisao\n",
    "tabela_auxiliar[\"Previsões de Regressão Linear\"] = previsao_regressaolinear\n",
    "# Projeção de Gráfico de Linha e Tamanho de Figura\n",
    "plt.figure(figsize=(15,6))\n",
    "sns.lineplot(data=tabela_auxiliar)\n",
    "plt.show()"
   ]
  },
  {
   "cell_type": "code",
   "execution_count": null,
   "id": "d6332eae",
   "metadata": {},
   "outputs": [],
   "source": [
    "# In[17]:\n",
    "# ---- Realização de Previsão Genérica\n",
    "nova_tabela = pd.read_csv(r\"Endereço da Planilha novos.csv\")\n",
    "display(nova_tabela)\n",
    "previsao = modelo_arvoredecisao.predict(nova_tabela)\n",
    "print(previsao)"
   ]
  },
  {
   "cell_type": "code",
   "execution_count": null,
   "id": "b2870053",
   "metadata": {},
   "outputs": [],
   "source": [
    "# In[18]:\n",
    "# ---- Projeção de Gráfico de Barras para Previsão\n",
    "sns.barplot(x=x_treino.columns, y=modelo_arvoredecisao.feature_importances_)\n",
    "plt.show()"
   ]
  }
 ],
 "metadata": {
  "kernelspec": {
   "display_name": "Python 3 (ipykernel)",
   "language": "python",
   "name": "python3"
  },
  "language_info": {
   "codemirror_mode": {
    "name": "ipython",
    "version": 3
   },
   "file_extension": ".py",
   "mimetype": "text/x-python",
   "name": "python",
   "nbconvert_exporter": "python",
   "pygments_lexer": "ipython3",
   "version": "3.9.12"
  }
 },
 "nbformat": 4,
 "nbformat_minor": 5
}
